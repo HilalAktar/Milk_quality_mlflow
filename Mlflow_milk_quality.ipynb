{
 "cells": [
  {
   "cell_type": "code",
   "execution_count": 1,
   "id": "c368e61c-f5a9-4e73-89bf-deecff9506d3",
   "metadata": {
    "tags": []
   },
   "outputs": [],
   "source": [
    "import pandas as pd\n",
    "import numpy as np\n",
    "from sklearn.preprocessing import LabelEncoder\n",
    "from sklearn.model_selection import train_test_split, ParameterGrid \n",
    "from sklearn import metrics\n",
    "from xgboost import XGBRegressor\n",
    "from sklearn.metrics import accuracy_score, precision_score, recall_score, f1_score, confusion_matrix\n",
    "from sklearn.metrics import roc_curve, auc\n",
    "import matplotlib.pyplot as plt\n",
    "import xgboost as xgb\n",
    "from sklearn.model_selection import GridSearchCV\n",
    "import warnings\n",
    "import mlflow"
   ]
  },
  {
   "cell_type": "code",
   "execution_count": 2,
   "id": "82a14f71-c81c-4df5-b3ea-fc91d8ae2e70",
   "metadata": {
    "tags": []
   },
   "outputs": [],
   "source": [
    "def load_data(path):\n",
    "    data = pd.read_csv(path)\n",
    "    return data"
   ]
  },
  {
   "cell_type": "code",
   "execution_count": 3,
   "id": "bd8c6e51-ab4d-4dc0-ad4f-3a54b9294f1e",
   "metadata": {
    "tags": []
   },
   "outputs": [
    {
     "data": {
      "text/html": [
       "<div>\n",
       "<style scoped>\n",
       "    .dataframe tbody tr th:only-of-type {\n",
       "        vertical-align: middle;\n",
       "    }\n",
       "\n",
       "    .dataframe tbody tr th {\n",
       "        vertical-align: top;\n",
       "    }\n",
       "\n",
       "    .dataframe thead th {\n",
       "        text-align: right;\n",
       "    }\n",
       "</style>\n",
       "<table border=\"1\" class=\"dataframe\">\n",
       "  <thead>\n",
       "    <tr style=\"text-align: right;\">\n",
       "      <th></th>\n",
       "      <th>pH</th>\n",
       "      <th>Temprature</th>\n",
       "      <th>Taste</th>\n",
       "      <th>Odor</th>\n",
       "      <th>Fat</th>\n",
       "      <th>Turbidity</th>\n",
       "      <th>Colour</th>\n",
       "      <th>Grade</th>\n",
       "    </tr>\n",
       "  </thead>\n",
       "  <tbody>\n",
       "    <tr>\n",
       "      <th>0</th>\n",
       "      <td>6.6</td>\n",
       "      <td>35</td>\n",
       "      <td>1</td>\n",
       "      <td>0</td>\n",
       "      <td>1</td>\n",
       "      <td>0</td>\n",
       "      <td>254</td>\n",
       "      <td>high</td>\n",
       "    </tr>\n",
       "    <tr>\n",
       "      <th>1</th>\n",
       "      <td>6.6</td>\n",
       "      <td>36</td>\n",
       "      <td>0</td>\n",
       "      <td>1</td>\n",
       "      <td>0</td>\n",
       "      <td>1</td>\n",
       "      <td>253</td>\n",
       "      <td>high</td>\n",
       "    </tr>\n",
       "    <tr>\n",
       "      <th>2</th>\n",
       "      <td>8.5</td>\n",
       "      <td>70</td>\n",
       "      <td>1</td>\n",
       "      <td>1</td>\n",
       "      <td>1</td>\n",
       "      <td>1</td>\n",
       "      <td>246</td>\n",
       "      <td>low</td>\n",
       "    </tr>\n",
       "    <tr>\n",
       "      <th>3</th>\n",
       "      <td>9.5</td>\n",
       "      <td>34</td>\n",
       "      <td>1</td>\n",
       "      <td>1</td>\n",
       "      <td>0</td>\n",
       "      <td>1</td>\n",
       "      <td>255</td>\n",
       "      <td>low</td>\n",
       "    </tr>\n",
       "    <tr>\n",
       "      <th>4</th>\n",
       "      <td>6.6</td>\n",
       "      <td>37</td>\n",
       "      <td>0</td>\n",
       "      <td>0</td>\n",
       "      <td>0</td>\n",
       "      <td>0</td>\n",
       "      <td>255</td>\n",
       "      <td>medium</td>\n",
       "    </tr>\n",
       "  </tbody>\n",
       "</table>\n",
       "</div>"
      ],
      "text/plain": [
       "    pH  Temprature  Taste  Odor  Fat   Turbidity  Colour   Grade\n",
       "0  6.6          35      1     0     1          0     254    high\n",
       "1  6.6          36      0     1     0          1     253    high\n",
       "2  8.5          70      1     1     1          1     246     low\n",
       "3  9.5          34      1     1     0          1     255     low\n",
       "4  6.6          37      0     0     0          0     255  medium"
      ]
     },
     "execution_count": 3,
     "metadata": {},
     "output_type": "execute_result"
    }
   ],
   "source": [
    "df = load_data(r'C:\\Users\\isilh\\OneDrive/Masaüstü/github_projeler/Milk_quality_mlflow/milknew.csv')\n",
    "df.head()"
   ]
  },
  {
   "cell_type": "code",
   "execution_count": 4,
   "id": "6bf00df7-15fc-4320-b920-16e5d76ef422",
   "metadata": {
    "tags": []
   },
   "outputs": [
    {
     "data": {
      "text/plain": [
       "low       429\n",
       "medium    374\n",
       "high      256\n",
       "Name: Grade, dtype: int64"
      ]
     },
     "execution_count": 4,
     "metadata": {},
     "output_type": "execute_result"
    }
   ],
   "source": [
    "df[\"Grade\"].value_counts()"
   ]
  },
  {
   "cell_type": "code",
   "execution_count": 5,
   "id": "a8de9fbc-83c5-43ca-b065-70f34f28a656",
   "metadata": {
    "tags": []
   },
   "outputs": [
    {
     "data": {
      "text/plain": [
       "array(['high', 'low', 'medium'], dtype=object)"
      ]
     },
     "execution_count": 5,
     "metadata": {},
     "output_type": "execute_result"
    }
   ],
   "source": [
    "df[\"Grade\"].unique()"
   ]
  },
  {
   "cell_type": "code",
   "execution_count": 6,
   "id": "354b1291-d690-48a8-ac76-98f1b61863ac",
   "metadata": {
    "tags": []
   },
   "outputs": [],
   "source": [
    "df['Grade'] = df['Grade'].map({\"low\": 1, \"medium\": 2, \"high\" : 3})"
   ]
  },
  {
   "cell_type": "code",
   "execution_count": 7,
   "id": "c4d15369-a285-4a46-b8e6-7c5798af8e94",
   "metadata": {
    "tags": []
   },
   "outputs": [
    {
     "data": {
      "text/html": [
       "<div>\n",
       "<style scoped>\n",
       "    .dataframe tbody tr th:only-of-type {\n",
       "        vertical-align: middle;\n",
       "    }\n",
       "\n",
       "    .dataframe tbody tr th {\n",
       "        vertical-align: top;\n",
       "    }\n",
       "\n",
       "    .dataframe thead th {\n",
       "        text-align: right;\n",
       "    }\n",
       "</style>\n",
       "<table border=\"1\" class=\"dataframe\">\n",
       "  <thead>\n",
       "    <tr style=\"text-align: right;\">\n",
       "      <th></th>\n",
       "      <th>pH</th>\n",
       "      <th>Temprature</th>\n",
       "      <th>Taste</th>\n",
       "      <th>Odor</th>\n",
       "      <th>Fat</th>\n",
       "      <th>Turbidity</th>\n",
       "      <th>Colour</th>\n",
       "      <th>Grade</th>\n",
       "    </tr>\n",
       "  </thead>\n",
       "  <tbody>\n",
       "    <tr>\n",
       "      <th>0</th>\n",
       "      <td>6.6</td>\n",
       "      <td>35</td>\n",
       "      <td>1</td>\n",
       "      <td>0</td>\n",
       "      <td>1</td>\n",
       "      <td>0</td>\n",
       "      <td>254</td>\n",
       "      <td>3</td>\n",
       "    </tr>\n",
       "    <tr>\n",
       "      <th>1</th>\n",
       "      <td>6.6</td>\n",
       "      <td>36</td>\n",
       "      <td>0</td>\n",
       "      <td>1</td>\n",
       "      <td>0</td>\n",
       "      <td>1</td>\n",
       "      <td>253</td>\n",
       "      <td>3</td>\n",
       "    </tr>\n",
       "    <tr>\n",
       "      <th>2</th>\n",
       "      <td>8.5</td>\n",
       "      <td>70</td>\n",
       "      <td>1</td>\n",
       "      <td>1</td>\n",
       "      <td>1</td>\n",
       "      <td>1</td>\n",
       "      <td>246</td>\n",
       "      <td>1</td>\n",
       "    </tr>\n",
       "    <tr>\n",
       "      <th>3</th>\n",
       "      <td>9.5</td>\n",
       "      <td>34</td>\n",
       "      <td>1</td>\n",
       "      <td>1</td>\n",
       "      <td>0</td>\n",
       "      <td>1</td>\n",
       "      <td>255</td>\n",
       "      <td>1</td>\n",
       "    </tr>\n",
       "    <tr>\n",
       "      <th>4</th>\n",
       "      <td>6.6</td>\n",
       "      <td>37</td>\n",
       "      <td>0</td>\n",
       "      <td>0</td>\n",
       "      <td>0</td>\n",
       "      <td>0</td>\n",
       "      <td>255</td>\n",
       "      <td>2</td>\n",
       "    </tr>\n",
       "  </tbody>\n",
       "</table>\n",
       "</div>"
      ],
      "text/plain": [
       "    pH  Temprature  Taste  Odor  Fat   Turbidity  Colour  Grade\n",
       "0  6.6          35      1     0     1          0     254      3\n",
       "1  6.6          36      0     1     0          1     253      3\n",
       "2  8.5          70      1     1     1          1     246      1\n",
       "3  9.5          34      1     1     0          1     255      1\n",
       "4  6.6          37      0     0     0          0     255      2"
      ]
     },
     "execution_count": 7,
     "metadata": {},
     "output_type": "execute_result"
    }
   ],
   "source": [
    "df.head()"
   ]
  },
  {
   "cell_type": "code",
   "execution_count": 8,
   "id": "cc5e6351-22c5-4d31-998a-921889dff6b7",
   "metadata": {
    "tags": []
   },
   "outputs": [],
   "source": [
    "y = df['Grade']\n",
    "X = df.drop(['Grade'], axis=1)"
   ]
  },
  {
   "cell_type": "code",
   "execution_count": 9,
   "id": "f68413f8-258e-4d08-b123-ebcba9e95fe9",
   "metadata": {
    "tags": []
   },
   "outputs": [],
   "source": [
    "X_train, X_test, y_train, y_test = train_test_split(X, y, test_size=0.2, random_state=42)"
   ]
  },
  {
   "cell_type": "code",
   "execution_count": 10,
   "id": "f83b28b2-060f-4418-bee6-b9e1f35069d2",
   "metadata": {
    "tags": []
   },
   "outputs": [
    {
     "data": {
      "text/html": [
       "<style>#sk-container-id-1 {color: black;}#sk-container-id-1 pre{padding: 0;}#sk-container-id-1 div.sk-toggleable {background-color: white;}#sk-container-id-1 label.sk-toggleable__label {cursor: pointer;display: block;width: 100%;margin-bottom: 0;padding: 0.3em;box-sizing: border-box;text-align: center;}#sk-container-id-1 label.sk-toggleable__label-arrow:before {content: \"▸\";float: left;margin-right: 0.25em;color: #696969;}#sk-container-id-1 label.sk-toggleable__label-arrow:hover:before {color: black;}#sk-container-id-1 div.sk-estimator:hover label.sk-toggleable__label-arrow:before {color: black;}#sk-container-id-1 div.sk-toggleable__content {max-height: 0;max-width: 0;overflow: hidden;text-align: left;background-color: #f0f8ff;}#sk-container-id-1 div.sk-toggleable__content pre {margin: 0.2em;color: black;border-radius: 0.25em;background-color: #f0f8ff;}#sk-container-id-1 input.sk-toggleable__control:checked~div.sk-toggleable__content {max-height: 200px;max-width: 100%;overflow: auto;}#sk-container-id-1 input.sk-toggleable__control:checked~label.sk-toggleable__label-arrow:before {content: \"▾\";}#sk-container-id-1 div.sk-estimator input.sk-toggleable__control:checked~label.sk-toggleable__label {background-color: #d4ebff;}#sk-container-id-1 div.sk-label input.sk-toggleable__control:checked~label.sk-toggleable__label {background-color: #d4ebff;}#sk-container-id-1 input.sk-hidden--visually {border: 0;clip: rect(1px 1px 1px 1px);clip: rect(1px, 1px, 1px, 1px);height: 1px;margin: -1px;overflow: hidden;padding: 0;position: absolute;width: 1px;}#sk-container-id-1 div.sk-estimator {font-family: monospace;background-color: #f0f8ff;border: 1px dotted black;border-radius: 0.25em;box-sizing: border-box;margin-bottom: 0.5em;}#sk-container-id-1 div.sk-estimator:hover {background-color: #d4ebff;}#sk-container-id-1 div.sk-parallel-item::after {content: \"\";width: 100%;border-bottom: 1px solid gray;flex-grow: 1;}#sk-container-id-1 div.sk-label:hover label.sk-toggleable__label {background-color: #d4ebff;}#sk-container-id-1 div.sk-serial::before {content: \"\";position: absolute;border-left: 1px solid gray;box-sizing: border-box;top: 0;bottom: 0;left: 50%;z-index: 0;}#sk-container-id-1 div.sk-serial {display: flex;flex-direction: column;align-items: center;background-color: white;padding-right: 0.2em;padding-left: 0.2em;position: relative;}#sk-container-id-1 div.sk-item {position: relative;z-index: 1;}#sk-container-id-1 div.sk-parallel {display: flex;align-items: stretch;justify-content: center;background-color: white;position: relative;}#sk-container-id-1 div.sk-item::before, #sk-container-id-1 div.sk-parallel-item::before {content: \"\";position: absolute;border-left: 1px solid gray;box-sizing: border-box;top: 0;bottom: 0;left: 50%;z-index: -1;}#sk-container-id-1 div.sk-parallel-item {display: flex;flex-direction: column;z-index: 1;position: relative;background-color: white;}#sk-container-id-1 div.sk-parallel-item:first-child::after {align-self: flex-end;width: 50%;}#sk-container-id-1 div.sk-parallel-item:last-child::after {align-self: flex-start;width: 50%;}#sk-container-id-1 div.sk-parallel-item:only-child::after {width: 0;}#sk-container-id-1 div.sk-dashed-wrapped {border: 1px dashed gray;margin: 0 0.4em 0.5em 0.4em;box-sizing: border-box;padding-bottom: 0.4em;background-color: white;}#sk-container-id-1 div.sk-label label {font-family: monospace;font-weight: bold;display: inline-block;line-height: 1.2em;}#sk-container-id-1 div.sk-label-container {text-align: center;}#sk-container-id-1 div.sk-container {/* jupyter's `normalize.less` sets `[hidden] { display: none; }` but bootstrap.min.css set `[hidden] { display: none !important; }` so we also need the `!important` here to be able to override the default hidden behavior on the sphinx rendered scikit-learn.org. See: https://github.com/scikit-learn/scikit-learn/issues/21755 */display: inline-block !important;position: relative;}#sk-container-id-1 div.sk-text-repr-fallback {display: none;}</style><div id=\"sk-container-id-1\" class=\"sk-top-container\"><div class=\"sk-text-repr-fallback\"><pre>XGBRegressor(base_score=None, booster=None, callbacks=None,\n",
       "             colsample_bylevel=None, colsample_bynode=None,\n",
       "             colsample_bytree=0.5, early_stopping_rounds=None,\n",
       "             enable_categorical=False, eval_metric=None, feature_types=None,\n",
       "             gamma=None, gpu_id=None, grow_policy=None, importance_type=None,\n",
       "             interaction_constraints=None, learning_rate=0.5, max_bin=None,\n",
       "             max_cat_threshold=None, max_cat_to_onehot=None,\n",
       "             max_delta_step=None, max_depth=5, max_leaves=None,\n",
       "             min_child_weight=None, missing=nan, monotone_constraints=None,\n",
       "             n_estimators=100, n_jobs=None, num_parallel_tree=None,\n",
       "             predictor=None, random_state=None, ...)</pre><b>In a Jupyter environment, please rerun this cell to show the HTML representation or trust the notebook. <br />On GitHub, the HTML representation is unable to render, please try loading this page with nbviewer.org.</b></div><div class=\"sk-container\" hidden><div class=\"sk-item\"><div class=\"sk-estimator sk-toggleable\"><input class=\"sk-toggleable__control sk-hidden--visually\" id=\"sk-estimator-id-1\" type=\"checkbox\" checked><label for=\"sk-estimator-id-1\" class=\"sk-toggleable__label sk-toggleable__label-arrow\">XGBRegressor</label><div class=\"sk-toggleable__content\"><pre>XGBRegressor(base_score=None, booster=None, callbacks=None,\n",
       "             colsample_bylevel=None, colsample_bynode=None,\n",
       "             colsample_bytree=0.5, early_stopping_rounds=None,\n",
       "             enable_categorical=False, eval_metric=None, feature_types=None,\n",
       "             gamma=None, gpu_id=None, grow_policy=None, importance_type=None,\n",
       "             interaction_constraints=None, learning_rate=0.5, max_bin=None,\n",
       "             max_cat_threshold=None, max_cat_to_onehot=None,\n",
       "             max_delta_step=None, max_depth=5, max_leaves=None,\n",
       "             min_child_weight=None, missing=nan, monotone_constraints=None,\n",
       "             n_estimators=100, n_jobs=None, num_parallel_tree=None,\n",
       "             predictor=None, random_state=None, ...)</pre></div></div></div></div></div>"
      ],
      "text/plain": [
       "XGBRegressor(base_score=None, booster=None, callbacks=None,\n",
       "             colsample_bylevel=None, colsample_bynode=None,\n",
       "             colsample_bytree=0.5, early_stopping_rounds=None,\n",
       "             enable_categorical=False, eval_metric=None, feature_types=None,\n",
       "             gamma=None, gpu_id=None, grow_policy=None, importance_type=None,\n",
       "             interaction_constraints=None, learning_rate=0.5, max_bin=None,\n",
       "             max_cat_threshold=None, max_cat_to_onehot=None,\n",
       "             max_delta_step=None, max_depth=5, max_leaves=None,\n",
       "             min_child_weight=None, missing=nan, monotone_constraints=None,\n",
       "             n_estimators=100, n_jobs=None, num_parallel_tree=None,\n",
       "             predictor=None, random_state=None, ...)"
      ]
     },
     "execution_count": 10,
     "metadata": {},
     "output_type": "execute_result"
    }
   ],
   "source": [
    "params = {\n",
    "    'n_estimators': 100,\n",
    "    'max_depth': 5,\n",
    "    'learning_rate': 0.5,\n",
    "    'subsample': 0.8,\n",
    "    'colsample_bytree': 0.5\n",
    "}\n",
    "\n",
    "model = XGBRegressor(**params, use_label_encoder=False)\n",
    "model.fit(X_train, y_train)"
   ]
  },
  {
   "cell_type": "code",
   "execution_count": 11,
   "id": "0672a3ab-b62b-4ee1-9549-cde98229b40c",
   "metadata": {
    "tags": []
   },
   "outputs": [],
   "source": [
    "y_pred = model.predict(X_test)"
   ]
  },
  {
   "cell_type": "code",
   "execution_count": 12,
   "id": "6ad07f75-4b16-468c-9727-cc0fffe59901",
   "metadata": {
    "tags": []
   },
   "outputs": [
    {
     "data": {
      "text/html": [
       "<div>\n",
       "<style scoped>\n",
       "    .dataframe tbody tr th:only-of-type {\n",
       "        vertical-align: middle;\n",
       "    }\n",
       "\n",
       "    .dataframe tbody tr th {\n",
       "        vertical-align: top;\n",
       "    }\n",
       "\n",
       "    .dataframe thead th {\n",
       "        text-align: right;\n",
       "    }\n",
       "</style>\n",
       "<table border=\"1\" class=\"dataframe\">\n",
       "  <thead>\n",
       "    <tr style=\"text-align: right;\">\n",
       "      <th></th>\n",
       "      <th>pH</th>\n",
       "      <th>Temprature</th>\n",
       "      <th>Taste</th>\n",
       "      <th>Odor</th>\n",
       "      <th>Fat</th>\n",
       "      <th>Turbidity</th>\n",
       "      <th>Colour</th>\n",
       "    </tr>\n",
       "  </thead>\n",
       "  <tbody>\n",
       "    <tr>\n",
       "      <th>576</th>\n",
       "      <td>6.6</td>\n",
       "      <td>40</td>\n",
       "      <td>1</td>\n",
       "      <td>0</td>\n",
       "      <td>1</td>\n",
       "      <td>1</td>\n",
       "      <td>255</td>\n",
       "    </tr>\n",
       "    <tr>\n",
       "      <th>312</th>\n",
       "      <td>4.5</td>\n",
       "      <td>60</td>\n",
       "      <td>0</td>\n",
       "      <td>1</td>\n",
       "      <td>1</td>\n",
       "      <td>1</td>\n",
       "      <td>250</td>\n",
       "    </tr>\n",
       "    <tr>\n",
       "      <th>70</th>\n",
       "      <td>9.0</td>\n",
       "      <td>43</td>\n",
       "      <td>1</td>\n",
       "      <td>0</td>\n",
       "      <td>1</td>\n",
       "      <td>1</td>\n",
       "      <td>250</td>\n",
       "    </tr>\n",
       "    <tr>\n",
       "      <th>682</th>\n",
       "      <td>6.8</td>\n",
       "      <td>45</td>\n",
       "      <td>0</td>\n",
       "      <td>0</td>\n",
       "      <td>0</td>\n",
       "      <td>1</td>\n",
       "      <td>255</td>\n",
       "    </tr>\n",
       "    <tr>\n",
       "      <th>896</th>\n",
       "      <td>6.6</td>\n",
       "      <td>38</td>\n",
       "      <td>0</td>\n",
       "      <td>0</td>\n",
       "      <td>0</td>\n",
       "      <td>0</td>\n",
       "      <td>255</td>\n",
       "    </tr>\n",
       "    <tr>\n",
       "      <th>...</th>\n",
       "      <td>...</td>\n",
       "      <td>...</td>\n",
       "      <td>...</td>\n",
       "      <td>...</td>\n",
       "      <td>...</td>\n",
       "      <td>...</td>\n",
       "      <td>...</td>\n",
       "    </tr>\n",
       "    <tr>\n",
       "      <th>55</th>\n",
       "      <td>6.7</td>\n",
       "      <td>45</td>\n",
       "      <td>1</td>\n",
       "      <td>1</td>\n",
       "      <td>1</td>\n",
       "      <td>0</td>\n",
       "      <td>245</td>\n",
       "    </tr>\n",
       "    <tr>\n",
       "      <th>120</th>\n",
       "      <td>6.6</td>\n",
       "      <td>45</td>\n",
       "      <td>0</td>\n",
       "      <td>0</td>\n",
       "      <td>0</td>\n",
       "      <td>1</td>\n",
       "      <td>250</td>\n",
       "    </tr>\n",
       "    <tr>\n",
       "      <th>533</th>\n",
       "      <td>6.8</td>\n",
       "      <td>41</td>\n",
       "      <td>0</td>\n",
       "      <td>0</td>\n",
       "      <td>0</td>\n",
       "      <td>0</td>\n",
       "      <td>255</td>\n",
       "    </tr>\n",
       "    <tr>\n",
       "      <th>25</th>\n",
       "      <td>6.5</td>\n",
       "      <td>36</td>\n",
       "      <td>0</td>\n",
       "      <td>1</td>\n",
       "      <td>1</td>\n",
       "      <td>0</td>\n",
       "      <td>253</td>\n",
       "    </tr>\n",
       "    <tr>\n",
       "      <th>72</th>\n",
       "      <td>6.6</td>\n",
       "      <td>45</td>\n",
       "      <td>0</td>\n",
       "      <td>1</td>\n",
       "      <td>1</td>\n",
       "      <td>1</td>\n",
       "      <td>250</td>\n",
       "    </tr>\n",
       "  </tbody>\n",
       "</table>\n",
       "<p>212 rows × 7 columns</p>\n",
       "</div>"
      ],
      "text/plain": [
       "      pH  Temprature  Taste  Odor  Fat   Turbidity  Colour\n",
       "576  6.6          40      1     0     1          1     255\n",
       "312  4.5          60      0     1     1          1     250\n",
       "70   9.0          43      1     0     1          1     250\n",
       "682  6.8          45      0     0     0          1     255\n",
       "896  6.6          38      0     0     0          0     255\n",
       "..   ...         ...    ...   ...   ...        ...     ...\n",
       "55   6.7          45      1     1     1          0     245\n",
       "120  6.6          45      0     0     0          1     250\n",
       "533  6.8          41      0     0     0          0     255\n",
       "25   6.5          36      0     1     1          0     253\n",
       "72   6.6          45      0     1     1          1     250\n",
       "\n",
       "[212 rows x 7 columns]"
      ]
     },
     "execution_count": 12,
     "metadata": {},
     "output_type": "execute_result"
    }
   ],
   "source": [
    "X_test"
   ]
  },
  {
   "cell_type": "code",
   "execution_count": 13,
   "id": "24d2106c-ab4f-4bea-aaf2-3f993ccc1846",
   "metadata": {
    "tags": []
   },
   "outputs": [
    {
     "data": {
      "text/plain": [
       "576    3\n",
       "312    1\n",
       "70     1\n",
       "682    2\n",
       "896    2\n",
       "      ..\n",
       "55     2\n",
       "120    2\n",
       "533    2\n",
       "25     3\n",
       "72     3\n",
       "Name: Grade, Length: 212, dtype: int64"
      ]
     },
     "execution_count": 13,
     "metadata": {},
     "output_type": "execute_result"
    }
   ],
   "source": [
    "y_test"
   ]
  },
  {
   "cell_type": "code",
   "execution_count": 14,
   "id": "387c345c-d80b-4812-b177-87ca22a3da7d",
   "metadata": {
    "tags": []
   },
   "outputs": [
    {
     "data": {
      "text/plain": [
       "array([2.763705  , 1.0001851 , 0.9995155 , 1.9967341 , 1.9943345 ,\n",
       "       0.9998553 , 1.000052  , 2.999562  , 1.0003234 , 2.0114417 ,\n",
       "       1.0000112 , 1.9993658 , 2.99936   , 1.9993658 , 0.99994576,\n",
       "       1.000052  , 3.000929  , 1.9980608 , 1.9943345 , 1.998142  ,\n",
       "       1.0003234 , 2.0002422 , 2.99936   , 1.9997177 , 1.9997177 ,\n",
       "       2.0114417 , 1.9302453 , 2.9984593 , 1.0000623 , 0.99988973,\n",
       "       2.0001764 , 3.001382  , 3.0002475 , 2.0114417 , 2.999562  ,\n",
       "       1.9924768 , 1.9996173 , 2.999562  , 2.004886  , 1.9993658 ,\n",
       "       0.99988973, 0.9998553 , 1.0003234 , 2.0114417 , 2.9995565 ,\n",
       "       1.000189  , 2.9979804 , 2.99936   , 2.000658  , 2.99936   ,\n",
       "       1.9891893 , 0.99994576, 1.000189  , 1.998142  , 1.9943345 ,\n",
       "       0.9998553 , 2.99936   , 0.9995155 , 1.0009718 , 2.003233  ,\n",
       "       2.004886  , 0.9988633 , 2.996262  , 3.0015726 , 2.999562  ,\n",
       "       1.0003234 , 2.0002422 , 1.9967341 , 1.0000433 , 2.0729933 ,\n",
       "       1.0039971 , 1.0011777 , 3.0005248 , 2.0001764 , 0.99671733,\n",
       "       1.000052  , 1.000052  , 1.9943345 , 1.0001851 , 1.9967341 ,\n",
       "       2.003233  , 2.0002422 , 2.999562  , 2.9987087 , 1.9993658 ,\n",
       "       1.9980608 , 2.001841  , 1.0000433 , 2.000658  , 2.999562  ,\n",
       "       1.0001851 , 0.9995155 , 2.999562  , 2.0114417 , 0.9988633 ,\n",
       "       1.9967341 , 3.000929  , 3.001382  , 0.9983883 , 2.954621  ,\n",
       "       1.0005208 , 1.0011777 , 1.0000112 , 0.99994576, 2.0002422 ,\n",
       "       1.9980608 , 0.9998553 , 1.0000112 , 1.9924768 , 2.999562  ,\n",
       "       3.000929  , 1.9924768 , 2.000658  , 0.9998553 , 2.9987087 ,\n",
       "       0.9983883 , 1.9992192 , 0.9997537 , 0.9996269 , 3.0002475 ,\n",
       "       2.004886  , 1.0005208 , 1.0039971 , 1.0039971 , 1.9943345 ,\n",
       "       2.2782605 , 1.9924768 , 2.0002422 , 2.9987087 , 1.7497157 ,\n",
       "       1.0009718 , 1.9992192 , 0.9997537 , 2.0001764 , 1.0011777 ,\n",
       "       0.9988633 , 1.9996173 , 1.000052  , 1.9992192 , 1.9924768 ,\n",
       "       2.1257637 , 3.0005248 , 0.9998553 , 1.9992192 , 0.99994576,\n",
       "       0.9995155 , 3.001382  , 0.99994576, 1.0001851 , 1.9993658 ,\n",
       "       2.003233  , 1.9997177 , 2.0114417 , 0.99671733, 1.9992192 ,\n",
       "       1.0003234 , 1.0000112 , 3.0008652 , 0.9998553 , 2.999562  ,\n",
       "       1.9980608 , 1.9924768 , 2.000658  , 0.99988973, 2.0002422 ,\n",
       "       2.999562  , 1.0000112 , 0.99794596, 1.9943345 , 1.000052  ,\n",
       "       2.001841  , 2.9979804 , 0.9998553 , 1.0000112 , 2.9979804 ,\n",
       "       1.0005208 , 1.9993658 , 2.0002422 , 1.9992192 , 1.9921737 ,\n",
       "       1.2124506 , 2.0030327 , 3.0015726 , 1.0000433 , 3.0015726 ,\n",
       "       1.0009718 , 2.000658  , 3.0002475 , 2.0002422 , 0.99671733,\n",
       "       1.0000112 , 1.9943345 , 2.001841  , 0.99671733, 3.0005248 ,\n",
       "       1.0001851 , 0.99671733, 2.996262  , 2.0002422 , 1.9943345 ,\n",
       "       2.001841  , 1.3718401 , 2.9984593 , 2.0006988 , 1.9924768 ,\n",
       "       0.99994576, 1.9921737 , 2.001841  , 1.9921737 , 1.9891893 ,\n",
       "       2.6898096 , 3.0005248 ], dtype=float32)"
      ]
     },
     "execution_count": 14,
     "metadata": {},
     "output_type": "execute_result"
    }
   ],
   "source": [
    "y_pred"
   ]
  },
  {
   "cell_type": "code",
   "execution_count": 15,
   "id": "a8b59986-a69b-4bc7-a95e-88dff2e55371",
   "metadata": {
    "tags": []
   },
   "outputs": [
    {
     "name": "stdout",
     "output_type": "stream",
     "text": [
      "[3. 1. 1. 2. 2. 1. 1. 3. 1. 2. 1. 2. 3. 2. 1. 1. 3. 2. 2. 2. 1. 2. 3. 2.\n",
      " 2. 2. 2. 3. 1. 1. 2. 3. 3. 2. 3. 2. 2. 3. 2. 2. 1. 1. 1. 2. 3. 1. 3. 3.\n",
      " 2. 3. 2. 1. 1. 2. 2. 1. 3. 1. 1. 2. 2. 1. 3. 3. 3. 1. 2. 2. 1. 2. 1. 1.\n",
      " 3. 2. 1. 1. 1. 2. 1. 2. 2. 2. 3. 3. 2. 2. 2. 1. 2. 3. 1. 1. 3. 2. 1. 2.\n",
      " 3. 3. 1. 3. 1. 1. 1. 1. 2. 2. 1. 1. 2. 3. 3. 2. 2. 1. 3. 1. 2. 1. 1. 3.\n",
      " 2. 1. 1. 1. 2. 2. 2. 2. 3. 2. 1. 2. 1. 2. 1. 1. 2. 1. 2. 2. 2. 3. 1. 2.\n",
      " 1. 1. 3. 1. 1. 2. 2. 2. 2. 1. 2. 1. 1. 3. 1. 3. 2. 2. 2. 1. 2. 3. 1. 1.\n",
      " 2. 1. 2. 3. 1. 1. 3. 1. 2. 2. 2. 2. 1. 2. 3. 1. 3. 1. 2. 3. 2. 1. 1. 2.\n",
      " 2. 1. 3. 1. 1. 3. 2. 2. 2. 1. 3. 2. 2. 1. 2. 2. 2. 2. 3. 3.]\n"
     ]
    }
   ],
   "source": [
    "rounded_y_pred = np.round(y_pred)\n",
    "print(rounded_y_pred)\n"
   ]
  },
  {
   "cell_type": "code",
   "execution_count": 16,
   "id": "59cafab2-9053-4b39-84c4-5f5c6261041e",
   "metadata": {
    "tags": []
   },
   "outputs": [],
   "source": [
    "def plot_importance(xgb_model):\n",
    "    plt.figure(figsize=(10, 6))\n",
    "    xgb.plot_importance(xgb_model, ax=plt.gca())\n",
    "    plt.xlabel('Önem Derecesi')\n",
    "    plt.title('Değişkenlerin Önemi (XGBoost)')\n",
    "    plt.savefig('plot_importance.png')"
   ]
  },
  {
   "cell_type": "code",
   "execution_count": 17,
   "id": "c7d8ed48-edd1-4ec3-8a3b-d67ff0b49c55",
   "metadata": {
    "tags": []
   },
   "outputs": [
    {
     "data": {
      "image/png": "[encoded data removed]",
      "text/plain": [
       "<Figure size 1000x600 with 1 Axes>"
      ]
     },
     "metadata": {},
     "output_type": "display_data"
    }
   ],
   "source": [
    "plot_importance(model)\n"
   ]
  },
  {
   "cell_type": "code",
   "execution_count": 18,
   "id": "3af79d5a-c7b7-4d20-a44d-ee40762d1ae8",
   "metadata": {
    "tags": []
   },
   "outputs": [],
   "source": [
    "def get_metrics(y_true, y_pred):\n",
    "    from sklearn.metrics import accuracy_score,precision_score,recall_score,log_loss\n",
    "    acc = accuracy_score(y_true, y_pred)\n",
    "    prec = precision_score(y_true, y_pred, average='weighted')\n",
    "    recall = recall_score(y_true, y_pred ,average='weighted')\n",
    "    f1 = f1_score(y_test, y_pred , average='weighted')\n",
    "    return {'accuracy': round(acc, 2), 'precision': prec, 'recall': recall, 'f1 score': f1}"
   ]
  },
  {
   "cell_type": "code",
   "execution_count": 19,
   "id": "6ca350d7-a79c-4bf6-a847-5cb9a03ac670",
   "metadata": {
    "tags": []
   },
   "outputs": [
    {
     "data": {
      "text/plain": [
       "{'accuracy': 0.98,\n",
       " 'precision': 0.9814536878216124,\n",
       " 'recall': 0.9811320754716981,\n",
       " 'f1 score': 0.9811401505188794}"
      ]
     },
     "execution_count": 19,
     "metadata": {},
     "output_type": "execute_result"
    }
   ],
   "source": [
    "get_metrics(y_test, rounded_y_pred)"
   ]
  },
  {
   "cell_type": "markdown",
   "id": "51ba5b18-5b5e-45ae-8a46-acd9881f4ab8",
   "metadata": {},
   "source": [
    "<h2>MlFlow Starts Here</h2>\n"
   ]
  },
  {
   "cell_type": "code",
   "execution_count": 20,
   "id": "92ebb883-b85a-4dfa-83e7-c7c8c4dd0fc2",
   "metadata": {
    "tags": []
   },
   "outputs": [
    {
     "name": "stdout",
     "output_type": "stream",
     "text": [
      "{'accuracy': 0.98, 'precision': 0.9814536878216124, 'recall': 0.9811320754716981, 'f1 score': 0.9811401505188794}\n"
     ]
    }
   ],
   "source": [
    "experiment_name = \"Milk Quality Xgboost\" ##basic classifier\n",
    "run_name= \"xgboost_mlflow\"\n",
    "run_metrics = get_metrics(y_test, rounded_y_pred)\n",
    "print(run_metrics)"
   ]
  },
  {
   "cell_type": "code",
   "execution_count": 21,
   "id": "fd1b33f8-34ed-4d7b-af87-daa957be1df7",
   "metadata": {
    "tags": []
   },
   "outputs": [],
   "source": [
    "def create_experiment(experiment_name, run_name, run_metrics, model, importance_plot_path=None, run_params=None):\n",
    "    import mlflow\n",
    "    mlflow.set_tracking_uri(\"http://localhost:5000\")  # uncomment this line if you want to use any database like sqlite as backend storage for model\n",
    "    mlflow.set_experiment(experiment_name)\n",
    "    \n",
    "    with mlflow.start_run():\n",
    "        \n",
    "        if not run_params == None:\n",
    "            for param in run_params:\n",
    "                mlflow.log_param(param, run_params[param])\n",
    "            \n",
    "        for metric in run_metrics:\n",
    "            mlflow.log_metric(metric, run_metrics[metric])\n",
    "        \n",
    "        mlflow.sklearn.log_model(model, \"model\")\n",
    "        \n",
    "        if not importance_plot_path == None:\n",
    "            mlflow.log_artifact(importance_plot_path, \"plot_importance\")\n",
    "        \n",
    "        mlflow.set_tag(\"tag1\", \"XGBoost\")\n",
    "        #mlflow.set_tags({\"tag2\": \"XGBoost Parameters\", \"tag3\": \"Production\"}) # uncomment if you need more tags\n",
    "\n",
    "            \n",
    "    print('Run - %s is logged to Experiment - %s using XGBoost' % (run_name, experiment_name))\n"
   ]
  },
  {
   "cell_type": "code",
   "execution_count": 23,
   "id": "d7a70df9-9df9-4d5a-b4fd-2ca8b05ba265",
   "metadata": {
    "tags": []
   },
   "outputs": [
    {
     "name": "stderr",
     "output_type": "stream",
     "text": [
      "2023/10/04 01:08:52 INFO mlflow.tracking.fluent: Experiment with name 'Milk Quality Xgboost' does not exist. Creating a new experiment.\n"
     ]
    },
    {
     "name": "stdout",
     "output_type": "stream",
     "text": [
      "Run - xgboost_mlflow is logged to Experiment - Milk Quality Xgboost using XGBoost\n"
     ]
    },
    {
     "name": "stderr",
     "output_type": "stream",
     "text": [
      "C:\\Users\\isilh\\anaconda3\\Lib\\site-packages\\_distutils_hack\\__init__.py:33: UserWarning: Setuptools is replacing distutils.\n",
      "  warnings.warn(\"Setuptools is replacing distutils.\")\n"
     ]
    }
   ],
   "source": [
    "create_experiment(experiment_name,run_name,run_metrics,model,\"plot_importance.png\",params)"
   ]
  },
  {
   "cell_type": "markdown",
   "id": "512b49cb-fa49-456b-b80b-a97c5240b51a",
   "metadata": {},
   "source": [
    "<h4>Hyperparameter Tunning</h4>"
   ]
  },
  {
   "cell_type": "code",
   "execution_count": 26,
   "id": "262378c8-deee-4c85-907d-1400dde593da",
   "metadata": {
    "tags": []
   },
   "outputs": [],
   "source": [
    "def hyper_parameter_tuning(X_train, y_train):\n",
    "    # Define parameter grid\n",
    "    param_grid = {\n",
    "        'n_estimators': [5, 21, 51, 101],\n",
    "        'max_depth': [5, 8],\n",
    "        'learning_rate': [0.5, 0.001],\n",
    "        'subsample': [0.8],\n",
    "        'colsample_bytree': [0.5, 1.0]\n",
    "    }\n",
    "\n",
    "    model = XGBRegressor()  # Define the model\n",
    "\n",
    "    grid_search = GridSearchCV(estimator=model, param_grid=param_grid, scoring='neg_mean_squared_error', cv=5)\n",
    "    grid_search.fit(X_train, y_train)\n",
    "\n",
    "    best_params = grid_search.best_params_\n",
    "    best_score = grid_search.best_score_\n",
    "    best_model = grid_search.best_estimator_\n",
    "    print(\"Best Parameters:\", best_params)\n",
    "    print(\"Best Score:\", best_score)\n",
    "\n",
    "    # The best model is already available through grid_search.best_estimator_\n",
    "    return best_model,best_params\n"
   ]
  },
  {
   "cell_type": "code",
   "execution_count": 27,
   "id": "ec845ded-c80a-4fb9-a2dc-ca8f58482697",
   "metadata": {
    "tags": []
   },
   "outputs": [],
   "source": [
    "def predict_on_test_data(model,X_test):\n",
    "    y_pred = model.predict(X_test)\n",
    "    return y_pred"
   ]
  },
  {
   "cell_type": "code",
   "execution_count": 28,
   "id": "62c59145-04b4-4c56-a21c-f25cc1f5fcdc",
   "metadata": {
    "tags": []
   },
   "outputs": [],
   "source": [
    "warnings.simplefilter(action='ignore', category=Warning)\n",
    "experiment_name = \"optimized model\"\n",
    "run_name=\"XGBoost_Tuned_Model\""
   ]
  },
  {
   "cell_type": "code",
   "execution_count": 32,
   "id": "3fbcc541-283d-44f8-90b1-a58c961c3bfa",
   "metadata": {
    "tags": []
   },
   "outputs": [
    {
     "name": "stdout",
     "output_type": "stream",
     "text": [
      "Best Parameters: {'colsample_bytree': 1.0, 'learning_rate': 0.5, 'max_depth': 8, 'n_estimators': 101, 'subsample': 0.8}\n",
      "Best Score: -0.0037660006543575263\n"
     ]
    }
   ],
   "source": [
    "best_model, best_params = hyper_parameter_tuning(X_train, y_train)\n",
    "run_params = best_params"
   ]
  },
  {
   "cell_type": "code",
   "execution_count": 33,
   "id": "b0d64208-7b0c-4983-872b-d47502efd27b",
   "metadata": {
    "tags": []
   },
   "outputs": [
    {
     "data": {
      "text/plain": [
       "{'colsample_bytree': 1.0,\n",
       " 'learning_rate': 0.5,\n",
       " 'max_depth': 8,\n",
       " 'n_estimators': 101,\n",
       " 'subsample': 0.8}"
      ]
     },
     "execution_count": 33,
     "metadata": {},
     "output_type": "execute_result"
    }
   ],
   "source": [
    "best_params"
   ]
  },
  {
   "cell_type": "code",
   "execution_count": 34,
   "id": "94eaa5f9-73af-4a06-b389-c0f33ae27afc",
   "metadata": {
    "tags": []
   },
   "outputs": [
    {
     "data": {
      "text/html": [
       "<style>#sk-container-id-3 {color: black;}#sk-container-id-3 pre{padding: 0;}#sk-container-id-3 div.sk-toggleable {background-color: white;}#sk-container-id-3 label.sk-toggleable__label {cursor: pointer;display: block;width: 100%;margin-bottom: 0;padding: 0.3em;box-sizing: border-box;text-align: center;}#sk-container-id-3 label.sk-toggleable__label-arrow:before {content: \"▸\";float: left;margin-right: 0.25em;color: #696969;}#sk-container-id-3 label.sk-toggleable__label-arrow:hover:before {color: black;}#sk-container-id-3 div.sk-estimator:hover label.sk-toggleable__label-arrow:before {color: black;}#sk-container-id-3 div.sk-toggleable__content {max-height: 0;max-width: 0;overflow: hidden;text-align: left;background-color: #f0f8ff;}#sk-container-id-3 div.sk-toggleable__content pre {margin: 0.2em;color: black;border-radius: 0.25em;background-color: #f0f8ff;}#sk-container-id-3 input.sk-toggleable__control:checked~div.sk-toggleable__content {max-height: 200px;max-width: 100%;overflow: auto;}#sk-container-id-3 input.sk-toggleable__control:checked~label.sk-toggleable__label-arrow:before {content: \"▾\";}#sk-container-id-3 div.sk-estimator input.sk-toggleable__control:checked~label.sk-toggleable__label {background-color: #d4ebff;}#sk-container-id-3 div.sk-label input.sk-toggleable__control:checked~label.sk-toggleable__label {background-color: #d4ebff;}#sk-container-id-3 input.sk-hidden--visually {border: 0;clip: rect(1px 1px 1px 1px);clip: rect(1px, 1px, 1px, 1px);height: 1px;margin: -1px;overflow: hidden;padding: 0;position: absolute;width: 1px;}#sk-container-id-3 div.sk-estimator {font-family: monospace;background-color: #f0f8ff;border: 1px dotted black;border-radius: 0.25em;box-sizing: border-box;margin-bottom: 0.5em;}#sk-container-id-3 div.sk-estimator:hover {background-color: #d4ebff;}#sk-container-id-3 div.sk-parallel-item::after {content: \"\";width: 100%;border-bottom: 1px solid gray;flex-grow: 1;}#sk-container-id-3 div.sk-label:hover label.sk-toggleable__label {background-color: #d4ebff;}#sk-container-id-3 div.sk-serial::before {content: \"\";position: absolute;border-left: 1px solid gray;box-sizing: border-box;top: 0;bottom: 0;left: 50%;z-index: 0;}#sk-container-id-3 div.sk-serial {display: flex;flex-direction: column;align-items: center;background-color: white;padding-right: 0.2em;padding-left: 0.2em;position: relative;}#sk-container-id-3 div.sk-item {position: relative;z-index: 1;}#sk-container-id-3 div.sk-parallel {display: flex;align-items: stretch;justify-content: center;background-color: white;position: relative;}#sk-container-id-3 div.sk-item::before, #sk-container-id-3 div.sk-parallel-item::before {content: \"\";position: absolute;border-left: 1px solid gray;box-sizing: border-box;top: 0;bottom: 0;left: 50%;z-index: -1;}#sk-container-id-3 div.sk-parallel-item {display: flex;flex-direction: column;z-index: 1;position: relative;background-color: white;}#sk-container-id-3 div.sk-parallel-item:first-child::after {align-self: flex-end;width: 50%;}#sk-container-id-3 div.sk-parallel-item:last-child::after {align-self: flex-start;width: 50%;}#sk-container-id-3 div.sk-parallel-item:only-child::after {width: 0;}#sk-container-id-3 div.sk-dashed-wrapped {border: 1px dashed gray;margin: 0 0.4em 0.5em 0.4em;box-sizing: border-box;padding-bottom: 0.4em;background-color: white;}#sk-container-id-3 div.sk-label label {font-family: monospace;font-weight: bold;display: inline-block;line-height: 1.2em;}#sk-container-id-3 div.sk-label-container {text-align: center;}#sk-container-id-3 div.sk-container {/* jupyter's `normalize.less` sets `[hidden] { display: none; }` but bootstrap.min.css set `[hidden] { display: none !important; }` so we also need the `!important` here to be able to override the default hidden behavior on the sphinx rendered scikit-learn.org. See: https://github.com/scikit-learn/scikit-learn/issues/21755 */display: inline-block !important;position: relative;}#sk-container-id-3 div.sk-text-repr-fallback {display: none;}</style><div id=\"sk-container-id-3\" class=\"sk-top-container\"><div class=\"sk-text-repr-fallback\"><pre>XGBRegressor(base_score=None, booster=None, callbacks=None,\n",
       "             colsample_bylevel=None, colsample_bynode=None,\n",
       "             colsample_bytree=1.0, early_stopping_rounds=None,\n",
       "             enable_categorical=False, eval_metric=None, feature_types=None,\n",
       "             gamma=None, gpu_id=None, grow_policy=None, importance_type=None,\n",
       "             interaction_constraints=None, learning_rate=0.5, max_bin=None,\n",
       "             max_cat_threshold=None, max_cat_to_onehot=None,\n",
       "             max_delta_step=None, max_depth=8, max_leaves=None,\n",
       "             min_child_weight=None, missing=nan, monotone_constraints=None,\n",
       "             n_estimators=101, n_jobs=None, num_parallel_tree=None,\n",
       "             predictor=None, random_state=None, ...)</pre><b>In a Jupyter environment, please rerun this cell to show the HTML representation or trust the notebook. <br />On GitHub, the HTML representation is unable to render, please try loading this page with nbviewer.org.</b></div><div class=\"sk-container\" hidden><div class=\"sk-item\"><div class=\"sk-estimator sk-toggleable\"><input class=\"sk-toggleable__control sk-hidden--visually\" id=\"sk-estimator-id-3\" type=\"checkbox\" checked><label for=\"sk-estimator-id-3\" class=\"sk-toggleable__label sk-toggleable__label-arrow\">XGBRegressor</label><div class=\"sk-toggleable__content\"><pre>XGBRegressor(base_score=None, booster=None, callbacks=None,\n",
       "             colsample_bylevel=None, colsample_bynode=None,\n",
       "             colsample_bytree=1.0, early_stopping_rounds=None,\n",
       "             enable_categorical=False, eval_metric=None, feature_types=None,\n",
       "             gamma=None, gpu_id=None, grow_policy=None, importance_type=None,\n",
       "             interaction_constraints=None, learning_rate=0.5, max_bin=None,\n",
       "             max_cat_threshold=None, max_cat_to_onehot=None,\n",
       "             max_delta_step=None, max_depth=8, max_leaves=None,\n",
       "             min_child_weight=None, missing=nan, monotone_constraints=None,\n",
       "             n_estimators=101, n_jobs=None, num_parallel_tree=None,\n",
       "             predictor=None, random_state=None, ...)</pre></div></div></div></div></div>"
      ],
      "text/plain": [
       "XGBRegressor(base_score=None, booster=None, callbacks=None,\n",
       "             colsample_bylevel=None, colsample_bynode=None,\n",
       "             colsample_bytree=1.0, early_stopping_rounds=None,\n",
       "             enable_categorical=False, eval_metric=None, feature_types=None,\n",
       "             gamma=None, gpu_id=None, grow_policy=None, importance_type=None,\n",
       "             interaction_constraints=None, learning_rate=0.5, max_bin=None,\n",
       "             max_cat_threshold=None, max_cat_to_onehot=None,\n",
       "             max_delta_step=None, max_depth=8, max_leaves=None,\n",
       "             min_child_weight=None, missing=nan, monotone_constraints=None,\n",
       "             n_estimators=101, n_jobs=None, num_parallel_tree=None,\n",
       "             predictor=None, random_state=None, ...)"
      ]
     },
     "execution_count": 34,
     "metadata": {},
     "output_type": "execute_result"
    }
   ],
   "source": [
    "best_model"
   ]
  },
  {
   "cell_type": "code",
   "execution_count": 35,
   "id": "618d0634-fc81-445e-a6e7-86d7f772aea8",
   "metadata": {
    "tags": []
   },
   "outputs": [],
   "source": [
    "y_pred = best_model.predict(X_test)\n"
   ]
  },
  {
   "cell_type": "code",
   "execution_count": 36,
   "id": "c7d02eed-2be5-4e1f-994d-1b2aff5058eb",
   "metadata": {
    "tags": []
   },
   "outputs": [],
   "source": [
    "y_pred = predict_on_test_data(best_model,X_test) #will return the predicted class"
   ]
  },
  {
   "cell_type": "code",
   "execution_count": 37,
   "id": "bb24590f-7f86-43ed-a99f-7e5af15989a2",
   "metadata": {
    "tags": []
   },
   "outputs": [
    {
     "name": "stdout",
     "output_type": "stream",
     "text": [
      "[3. 1. 1. 2. 2. 1. 1. 3. 1. 2. 1. 2. 3. 2. 1. 1. 3. 2. 2. 2. 1. 2. 3. 2.\n",
      " 2. 2. 2. 3. 1. 1. 2. 3. 3. 2. 3. 2. 2. 3. 2. 2. 1. 1. 1. 2. 3. 1. 3. 3.\n",
      " 2. 3. 2. 1. 1. 2. 2. 1. 3. 1. 1. 2. 2. 1. 3. 3. 3. 1. 2. 2. 1. 2. 1. 1.\n",
      " 3. 2. 1. 1. 1. 2. 1. 2. 2. 2. 3. 3. 2. 2. 2. 1. 2. 3. 1. 1. 3. 2. 1. 2.\n",
      " 3. 3. 1. 3. 1. 1. 1. 1. 2. 2. 1. 1. 2. 3. 3. 2. 2. 1. 3. 1. 2. 1. 1. 3.\n",
      " 2. 1. 1. 1. 2. 2. 2. 2. 3. 1. 1. 2. 1. 2. 1. 1. 2. 1. 2. 2. 2. 3. 1. 2.\n",
      " 1. 1. 3. 1. 1. 2. 2. 2. 2. 1. 2. 1. 1. 3. 1. 3. 2. 2. 2. 1. 2. 3. 1. 1.\n",
      " 2. 1. 2. 3. 1. 1. 3. 1. 2. 2. 2. 2. 1. 2. 3. 1. 3. 1. 2. 3. 2. 1. 1. 2.\n",
      " 2. 1. 3. 1. 1. 3. 2. 2. 2. 2. 3. 3. 2. 1. 2. 2. 2. 2. 3. 3.]\n"
     ]
    }
   ],
   "source": [
    "rounded_y_pred = np.round(y_pred)\n",
    "print(rounded_y_pred)\n"
   ]
  },
  {
   "cell_type": "code",
   "execution_count": 38,
   "id": "da7dad69-a7ba-4c33-8f42-b319024f1df1",
   "metadata": {
    "tags": []
   },
   "outputs": [],
   "source": [
    "run_metrics = get_metrics(y_test, rounded_y_pred)"
   ]
  },
  {
   "cell_type": "code",
   "execution_count": 39,
   "id": "e50f5059-c7c1-4cf6-85ab-85764e7151ae",
   "metadata": {
    "tags": []
   },
   "outputs": [
    {
     "data": {
      "text/plain": [
       "{'accuracy': 0.99,\n",
       " 'precision': 0.9859574929516374,\n",
       " 'recall': 0.9858490566037735,\n",
       " 'f1 score': 0.9858651290676249}"
      ]
     },
     "execution_count": 39,
     "metadata": {},
     "output_type": "execute_result"
    }
   ],
   "source": [
    "run_metrics"
   ]
  },
  {
   "cell_type": "code",
   "execution_count": 40,
   "id": "1de3d9b9-f5fe-48b0-ad4b-6ae3b012296a",
   "metadata": {
    "tags": []
   },
   "outputs": [
    {
     "name": "stdout",
     "output_type": "stream",
     "text": [
      "colsample_bytree 1.0\n",
      "learning_rate 0.5\n",
      "max_depth 8\n",
      "n_estimators 101\n",
      "subsample 0.8\n"
     ]
    }
   ],
   "source": [
    "for param in run_params:\n",
    "    print(param, run_params[param])"
   ]
  },
  {
   "cell_type": "code",
   "execution_count": 41,
   "id": "1d480069-fa73-4bed-8104-b4e761f0467f",
   "metadata": {
    "tags": []
   },
   "outputs": [
    {
     "name": "stderr",
     "output_type": "stream",
     "text": [
      "2023/10/04 01:10:17 INFO mlflow.tracking.fluent: Experiment with name 'optimized model' does not exist. Creating a new experiment.\n"
     ]
    },
    {
     "name": "stdout",
     "output_type": "stream",
     "text": [
      "Run - XGBoost_Tuned_Model is logged to Experiment - optimized model using XGBoost\n"
     ]
    }
   ],
   "source": [
    "create_experiment(experiment_name,run_name,run_metrics,best_model,\"plot_importance.png\",run_params)"
   ]
  },
  {
   "cell_type": "markdown",
   "id": "e231399b-5934-47e4-9df0-8e11c9901c82",
   "metadata": {
    "tags": []
   },
   "source": [
    "<h2>Model Registry</h2>\n"
   ]
  },
  {
   "cell_type": "code",
   "execution_count": 42,
   "id": "ff76c262-4fe2-46c6-b5a5-d799728886df",
   "metadata": {},
   "outputs": [
    {
     "data": {
      "text/plain": [
       "array([3.0053113 , 1.0000255 , 0.9999826 , 1.9999311 , 1.9998705 ,\n",
       "       1.0000181 , 1.0000664 , 2.9999046 , 1.0000322 , 2.0004592 ,\n",
       "       0.99997723, 2.0000312 , 2.9999366 , 2.0000312 , 1.0000181 ,\n",
       "       1.0000664 , 3.0000515 , 1.9998958 , 1.9998705 , 1.9999883 ,\n",
       "       1.0000322 , 1.9999673 , 2.9999366 , 1.9999969 , 1.9999969 ,\n",
       "       2.0004592 , 2.2907176 , 2.999627  , 1.0000439 , 1.0000085 ,\n",
       "       1.999896  , 2.9971251 , 3.0000072 , 2.0004592 , 2.9999046 ,\n",
       "       1.999886  , 2.0005522 , 2.9999046 , 1.9999985 , 2.0000312 ,\n",
       "       1.0000085 , 1.0000181 , 1.0000322 , 2.0004592 , 2.9999955 ,\n",
       "       1.0000582 , 2.9999099 , 2.9999366 , 1.999917  , 2.9999366 ,\n",
       "       2.000012  , 1.0000181 , 1.0000582 , 1.9999883 , 1.9998705 ,\n",
       "       1.0000181 , 2.9999366 , 0.9999826 , 0.9999776 , 2.0001345 ,\n",
       "       1.9999985 , 0.9997262 , 3.0003397 , 3.000187  , 2.9999046 ,\n",
       "       1.0000322 , 1.9999673 , 1.9999311 , 1.0000703 , 1.9992998 ,\n",
       "       1.0002077 , 0.99996215, 3.0000236 , 1.999896  , 1.0000362 ,\n",
       "       1.0000664 , 1.0000664 , 1.9998705 , 1.0000255 , 1.9999311 ,\n",
       "       2.0001345 , 1.9999673 , 2.9999046 , 2.999854  , 2.0000312 ,\n",
       "       1.9998958 , 2.0002105 , 1.0000703 , 1.999917  , 2.9999046 ,\n",
       "       1.0000255 , 0.9999826 , 2.9999046 , 2.0004592 , 0.9997262 ,\n",
       "       1.9999311 , 3.0000515 , 2.9971251 , 0.99965394, 2.9998314 ,\n",
       "       0.9999776 , 0.99996215, 0.99997723, 1.0000181 , 1.9999673 ,\n",
       "       1.9998958 , 1.0000181 , 0.99997723, 1.999886  , 2.9999046 ,\n",
       "       3.0000515 , 1.999886  , 1.999917  , 1.0000181 , 2.999854  ,\n",
       "       0.99965394, 2.0000453 , 0.9999657 , 1.0057895 , 3.0000072 ,\n",
       "       1.9999985 , 0.9999776 , 1.0002077 , 1.0002077 , 1.9998705 ,\n",
       "       2.1884327 , 1.999886  , 1.9999673 , 2.999854  , 1.3637526 ,\n",
       "       0.9999776 , 2.0000453 , 0.9999657 , 1.999896  , 0.99996215,\n",
       "       0.9997262 , 2.0005522 , 1.0000664 , 2.0000453 , 1.999886  ,\n",
       "       2.0075696 , 3.0000236 , 1.0000181 , 2.0000453 , 1.0000181 ,\n",
       "       0.9999826 , 2.9971251 , 1.0000181 , 1.0000255 , 2.0000312 ,\n",
       "       2.0001345 , 1.9999969 , 2.0004592 , 1.0000362 , 2.0000453 ,\n",
       "       1.0000322 , 0.99997723, 3.0000565 , 1.0000181 , 2.9999046 ,\n",
       "       1.9998958 , 1.999886  , 1.999917  , 1.0000085 , 1.9999673 ,\n",
       "       2.9999046 , 0.99997723, 1.0000725 , 1.9998705 , 1.0000664 ,\n",
       "       2.0002105 , 2.9999099 , 1.0000181 , 0.99997723, 2.9999099 ,\n",
       "       0.9999776 , 2.0000312 , 1.9999673 , 2.0000453 , 1.9997005 ,\n",
       "       1.0001717 , 1.9996355 , 3.000187  , 1.0000703 , 3.000187  ,\n",
       "       0.9999776 , 1.999917  , 3.0000072 , 1.9999673 , 1.0000362 ,\n",
       "       0.99997723, 1.9998705 , 2.0002105 , 1.0000362 , 3.0000236 ,\n",
       "       1.0000255 , 1.0000362 , 3.0003397 , 1.9999673 , 1.9998705 ,\n",
       "       2.0002105 , 1.9597499 , 2.999627  , 2.9272673 , 1.999886  ,\n",
       "       1.0000181 , 1.9997005 , 2.0002105 , 1.9997005 , 2.000012  ,\n",
       "       2.605521  , 3.0000236 ], dtype=float32)"
      ]
     },
     "execution_count": 42,
     "metadata": {},
     "output_type": "execute_result"
    }
   ],
   "source": [
    "import mlflow\n",
    "logged_model = 'runs:/87fa7f375f0a4b16a0d99ec413bb8638/model'\n",
    "\n",
    "# Load model as a PyFuncModel.\n",
    "loaded_model = mlflow.pyfunc.load_model(logged_model)\n",
    "\n",
    "# Predict on a Pandas DataFrame.\n",
    "import pandas as pd\n",
    "# Change data with X_test\n",
    "loaded_model.predict(pd.DataFrame(X_test))"
   ]
  },
  {
   "cell_type": "markdown",
   "id": "7ed00b6c-61ea-4ecf-bd0f-16a44cee2773",
   "metadata": {
    "tags": []
   },
   "source": [
    "<h4>Method 1</h4>"
   ]
  },
  {
   "cell_type": "code",
   "execution_count": 47,
   "id": "ebeff7dd-d542-4878-a6e3-21681a68411c",
   "metadata": {
    "tags": []
   },
   "outputs": [],
   "source": [
    "def create_experiment_and_register(experiment_name, run_name, run_metrics, model,registered_model_name, importance_plot_path=None, run_params=None):\n",
    "    import mlflow\n",
    "    mlflow.set_tracking_uri(\"http://localhost:5000\")  # uncomment this line if you want to use any database like sqlite as backend storage for model\n",
    "    mlflow.set_experiment(experiment_name)\n",
    "    \n",
    "    with mlflow.start_run():\n",
    "        \n",
    "        if not run_params == None:\n",
    "            for param in run_params:\n",
    "                mlflow.log_param(param, run_params[param])\n",
    "            \n",
    "        for metric in run_metrics:\n",
    "            mlflow.log_metric(metric, run_metrics[metric])\n",
    "        \n",
    "        mlflow.sklearn.log_model(model, \"model\")\n",
    "        \n",
    "        if not importance_plot_path == None:\n",
    "            mlflow.log_artifact(importance_plot_path, \"plot_importance\")\n",
    "        \n",
    "        mlflow.set_tag(\"tag1\", \"XGBoost\")\n",
    "        #mlflow.set_tags({\"tag2\": \"XGBoost Parameters\", \"tag3\": \"Production\"}) # uncomment if you need more tags\n",
    "        mlflow.sklearn.log_model(model, \"model\",registered_model_name= registered_model_name )\n",
    "            \n",
    "    print('Run - %s is logged to Experiment and Registered - %s using XGBoost' % (run_name, experiment_name))"
   ]
  },
  {
   "cell_type": "code",
   "execution_count": 49,
   "id": "627179d1-add7-42d8-8045-1084ed3c5bfb",
   "metadata": {
    "tags": []
   },
   "outputs": [
    {
     "name": "stderr",
     "output_type": "stream",
     "text": [
      "Successfully registered model 'Register_milkQ_XGBoost_model'.\n",
      "2023/10/04 01:29:08 INFO mlflow.tracking._model_registry.client: Waiting up to 300 seconds for model version to finish creation. Model name: Register_milkQ_XGBoost_model, version 1\n"
     ]
    },
    {
     "name": "stdout",
     "output_type": "stream",
     "text": [
      "Run - xgboostregister is logged to Experiment and Registered - Register_XGBoost_model using XGBoost\n"
     ]
    },
    {
     "name": "stderr",
     "output_type": "stream",
     "text": [
      "Created version '1' of model 'Register_milkQ_XGBoost_model'.\n"
     ]
    }
   ],
   "source": [
    "experiment_name = \"Register_XGBoost_model\" #+ str(datetime.now().strftime(\"%d-%m-%y\")) ##basic classifier\n",
    "run_name=\"xgboostregister\" #+str(datetime.now().strftime(\"%d-%m-%y\"))\n",
    "registered_model_name= \"Register_milkQ_XGBoost_model\"\n",
    "create_experiment_and_register(experiment_name,run_name,run_metrics,best_model,registered_model_name,\"plot_importance.png\")"
   ]
  },
  {
   "cell_type": "markdown",
   "id": "94cc38dc-bb93-4c0d-9f4d-904ae9aa178d",
   "metadata": {
    "tags": []
   },
   "source": [
    "<h4>Method 2</h4>"
   ]
  },
  {
   "cell_type": "code",
   "execution_count": 50,
   "id": "1c28e3d4-3f1e-4adc-a5b6-c011305f3f87",
   "metadata": {
    "tags": []
   },
   "outputs": [
    {
     "name": "stderr",
     "output_type": "stream",
     "text": [
      "Successfully registered model 'Register_milkQ_XGBoost_model-2'.\n",
      "2023/10/04 01:38:20 INFO mlflow.tracking._model_registry.client: Waiting up to 300 seconds for model version to finish creation. Model name: Register_milkQ_XGBoost_model-2, version 1\n",
      "Created version '1' of model 'Register_milkQ_XGBoost_model-2'.\n"
     ]
    }
   ],
   "source": [
    "import mlflow\n",
    "with mlflow.start_run(run_name=run_name) as run:\n",
    "    result = mlflow.register_model(\n",
    "        \"runs:/87fa7f375f0a4b16a0d99ec413bb8638/model\",\n",
    "        \"Register_milkQ_XGBoost_model-2\"\n",
    "    )"
   ]
  }
 ],
 "metadata": {
  "kernelspec": {
   "display_name": "Python 3 (ipykernel)",
   "language": "python",
   "name": "python3"
  },
  "language_info": {
   "codemirror_mode": {
    "name": "ipython",
    "version": 3
   },
   "file_extension": ".py",
   "mimetype": "text/x-python",
   "name": "python",
   "nbconvert_exporter": "python",
   "pygments_lexer": "ipython3",
   "version": "3.11.4"
  }
 },
 "nbformat": 4,
 "nbformat_minor": 5
}
